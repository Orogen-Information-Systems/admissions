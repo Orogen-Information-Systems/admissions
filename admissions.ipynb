{
  "nbformat": 4,
  "nbformat_minor": 0,
  "metadata": {
    "colab": {
      "provenance": [],
      "authorship_tag": "ABX9TyP/23UAUqzs8WyCR3FS3JBm",
      "include_colab_link": true
    },
    "kernelspec": {
      "name": "python3",
      "display_name": "Python 3"
    },
    "language_info": {
      "name": "python"
    }
  },
  "cells": [
    {
      "cell_type": "markdown",
      "metadata": {
        "id": "view-in-github",
        "colab_type": "text"
      },
      "source": [
        "<a href=\"https://colab.research.google.com/github/Orogen-Information-Systems/admissions/blob/main/admissions.ipynb\" target=\"_parent\"><img src=\"https://colab.research.google.com/assets/colab-badge.svg\" alt=\"Open In Colab\"/></a>"
      ]
    },
    {
      "cell_type": "markdown",
      "source": [
        "# Deep Learning Analysis of College Admissions Criteria\n",
        "\n",
        "Author: Jim Morgan\n",
        "\n",
        "Date: 11/09/2023\n",
        "\n",
        "---\n",
        "\n",
        "## Introduction\n",
        "\n",
        "A brief exercise in using TensorFlow based on a college admissions dataset originating from Codecademy. This exercise pre-processes data, constructs a sequential model with input, hidden, and output layers, and finally evaluates the resulting predictions."
      ],
      "metadata": {
        "id": "1L1vB6ajo6ft"
      }
    },
    {
      "cell_type": "code",
      "execution_count": null,
      "metadata": {
        "id": "Cu6fCzHIhTg5"
      },
      "outputs": [],
      "source": [
        "# Import Libraries and Tools\n",
        "from google.colab import drive\n",
        "\n",
        "import pandas as pd\n",
        "import numpy as np\n",
        "import matplotlib.pyplot as plt\n",
        "\n",
        "import tensorflow as tf\n",
        "from tensorflow\timport keras\n",
        "from tensorflow.keras.models import Sequential\n",
        "from tensorflow.keras.callbacks import EarlyStopping\n",
        "from tensorflow.keras import layers\n",
        "from tensorflow.keras.optimizers import SGD\n",
        "\n",
        "from sklearn.compose import ColumnTransformer\n",
        "from sklearn.model_selection import train_test_split\n",
        "from sklearn.preprocessing import StandardScaler\n",
        "from sklearn.preprocessing import Normalizer\n",
        "from sklearn.metrics import r2_score"
      ]
    },
    {
      "cell_type": "code",
      "source": [
        "drive.mount('/content/drive')\n",
        "dataset = pd.read_csv('drive/MyDrive/Colab Notebooks/Admissions Project/data/admissions.csv')\n",
        "\n",
        "dataset.describe()"
      ],
      "metadata": {
        "colab": {
          "base_uri": "https://localhost:8080/",
          "height": 355
        },
        "id": "GJCCKHpwh4ng",
        "outputId": "a84e1eb2-5872-4361-a868-0f19f8e90dc2"
      },
      "execution_count": null,
      "outputs": [
        {
          "output_type": "stream",
          "name": "stdout",
          "text": [
            "Drive already mounted at /content/drive; to attempt to forcibly remount, call drive.mount(\"/content/drive\", force_remount=True).\n"
          ]
        },
        {
          "output_type": "execute_result",
          "data": {
            "text/plain": [
              "       Serial No.   GRE Score  TOEFL Score  University Rating         SOP  \\\n",
              "count  500.000000  500.000000   500.000000         500.000000  500.000000   \n",
              "mean   250.500000  316.472000   107.192000           3.114000    3.374000   \n",
              "std    144.481833   11.295148     6.081868           1.143512    0.991004   \n",
              "min      1.000000  290.000000    92.000000           1.000000    1.000000   \n",
              "25%    125.750000  308.000000   103.000000           2.000000    2.500000   \n",
              "50%    250.500000  317.000000   107.000000           3.000000    3.500000   \n",
              "75%    375.250000  325.000000   112.000000           4.000000    4.000000   \n",
              "max    500.000000  340.000000   120.000000           5.000000    5.000000   \n",
              "\n",
              "            LOR         CGPA    Research  Chance of Admit   \n",
              "count  500.00000  500.000000  500.000000         500.00000  \n",
              "mean     3.48400    8.576440    0.560000           0.72174  \n",
              "std      0.92545    0.604813    0.496884           0.14114  \n",
              "min      1.00000    6.800000    0.000000           0.34000  \n",
              "25%      3.00000    8.127500    0.000000           0.63000  \n",
              "50%      3.50000    8.560000    1.000000           0.72000  \n",
              "75%      4.00000    9.040000    1.000000           0.82000  \n",
              "max      5.00000    9.920000    1.000000           0.97000  "
            ],
            "text/html": [
              "\n",
              "  <div id=\"df-75cb1c31-7512-47a8-91de-bdc485e8bd69\" class=\"colab-df-container\">\n",
              "    <div>\n",
              "<style scoped>\n",
              "    .dataframe tbody tr th:only-of-type {\n",
              "        vertical-align: middle;\n",
              "    }\n",
              "\n",
              "    .dataframe tbody tr th {\n",
              "        vertical-align: top;\n",
              "    }\n",
              "\n",
              "    .dataframe thead th {\n",
              "        text-align: right;\n",
              "    }\n",
              "</style>\n",
              "<table border=\"1\" class=\"dataframe\">\n",
              "  <thead>\n",
              "    <tr style=\"text-align: right;\">\n",
              "      <th></th>\n",
              "      <th>Serial No.</th>\n",
              "      <th>GRE Score</th>\n",
              "      <th>TOEFL Score</th>\n",
              "      <th>University Rating</th>\n",
              "      <th>SOP</th>\n",
              "      <th>LOR</th>\n",
              "      <th>CGPA</th>\n",
              "      <th>Research</th>\n",
              "      <th>Chance of Admit</th>\n",
              "    </tr>\n",
              "  </thead>\n",
              "  <tbody>\n",
              "    <tr>\n",
              "      <th>count</th>\n",
              "      <td>500.000000</td>\n",
              "      <td>500.000000</td>\n",
              "      <td>500.000000</td>\n",
              "      <td>500.000000</td>\n",
              "      <td>500.000000</td>\n",
              "      <td>500.00000</td>\n",
              "      <td>500.000000</td>\n",
              "      <td>500.000000</td>\n",
              "      <td>500.00000</td>\n",
              "    </tr>\n",
              "    <tr>\n",
              "      <th>mean</th>\n",
              "      <td>250.500000</td>\n",
              "      <td>316.472000</td>\n",
              "      <td>107.192000</td>\n",
              "      <td>3.114000</td>\n",
              "      <td>3.374000</td>\n",
              "      <td>3.48400</td>\n",
              "      <td>8.576440</td>\n",
              "      <td>0.560000</td>\n",
              "      <td>0.72174</td>\n",
              "    </tr>\n",
              "    <tr>\n",
              "      <th>std</th>\n",
              "      <td>144.481833</td>\n",
              "      <td>11.295148</td>\n",
              "      <td>6.081868</td>\n",
              "      <td>1.143512</td>\n",
              "      <td>0.991004</td>\n",
              "      <td>0.92545</td>\n",
              "      <td>0.604813</td>\n",
              "      <td>0.496884</td>\n",
              "      <td>0.14114</td>\n",
              "    </tr>\n",
              "    <tr>\n",
              "      <th>min</th>\n",
              "      <td>1.000000</td>\n",
              "      <td>290.000000</td>\n",
              "      <td>92.000000</td>\n",
              "      <td>1.000000</td>\n",
              "      <td>1.000000</td>\n",
              "      <td>1.00000</td>\n",
              "      <td>6.800000</td>\n",
              "      <td>0.000000</td>\n",
              "      <td>0.34000</td>\n",
              "    </tr>\n",
              "    <tr>\n",
              "      <th>25%</th>\n",
              "      <td>125.750000</td>\n",
              "      <td>308.000000</td>\n",
              "      <td>103.000000</td>\n",
              "      <td>2.000000</td>\n",
              "      <td>2.500000</td>\n",
              "      <td>3.00000</td>\n",
              "      <td>8.127500</td>\n",
              "      <td>0.000000</td>\n",
              "      <td>0.63000</td>\n",
              "    </tr>\n",
              "    <tr>\n",
              "      <th>50%</th>\n",
              "      <td>250.500000</td>\n",
              "      <td>317.000000</td>\n",
              "      <td>107.000000</td>\n",
              "      <td>3.000000</td>\n",
              "      <td>3.500000</td>\n",
              "      <td>3.50000</td>\n",
              "      <td>8.560000</td>\n",
              "      <td>1.000000</td>\n",
              "      <td>0.72000</td>\n",
              "    </tr>\n",
              "    <tr>\n",
              "      <th>75%</th>\n",
              "      <td>375.250000</td>\n",
              "      <td>325.000000</td>\n",
              "      <td>112.000000</td>\n",
              "      <td>4.000000</td>\n",
              "      <td>4.000000</td>\n",
              "      <td>4.00000</td>\n",
              "      <td>9.040000</td>\n",
              "      <td>1.000000</td>\n",
              "      <td>0.82000</td>\n",
              "    </tr>\n",
              "    <tr>\n",
              "      <th>max</th>\n",
              "      <td>500.000000</td>\n",
              "      <td>340.000000</td>\n",
              "      <td>120.000000</td>\n",
              "      <td>5.000000</td>\n",
              "      <td>5.000000</td>\n",
              "      <td>5.00000</td>\n",
              "      <td>9.920000</td>\n",
              "      <td>1.000000</td>\n",
              "      <td>0.97000</td>\n",
              "    </tr>\n",
              "  </tbody>\n",
              "</table>\n",
              "</div>\n",
              "    <div class=\"colab-df-buttons\">\n",
              "\n",
              "  <div class=\"colab-df-container\">\n",
              "    <button class=\"colab-df-convert\" onclick=\"convertToInteractive('df-75cb1c31-7512-47a8-91de-bdc485e8bd69')\"\n",
              "            title=\"Convert this dataframe to an interactive table.\"\n",
              "            style=\"display:none;\">\n",
              "\n",
              "  <svg xmlns=\"http://www.w3.org/2000/svg\" height=\"24px\" viewBox=\"0 -960 960 960\">\n",
              "    <path d=\"M120-120v-720h720v720H120Zm60-500h600v-160H180v160Zm220 220h160v-160H400v160Zm0 220h160v-160H400v160ZM180-400h160v-160H180v160Zm440 0h160v-160H620v160ZM180-180h160v-160H180v160Zm440 0h160v-160H620v160Z\"/>\n",
              "  </svg>\n",
              "    </button>\n",
              "\n",
              "  <style>\n",
              "    .colab-df-container {\n",
              "      display:flex;\n",
              "      gap: 12px;\n",
              "    }\n",
              "\n",
              "    .colab-df-convert {\n",
              "      background-color: #E8F0FE;\n",
              "      border: none;\n",
              "      border-radius: 50%;\n",
              "      cursor: pointer;\n",
              "      display: none;\n",
              "      fill: #1967D2;\n",
              "      height: 32px;\n",
              "      padding: 0 0 0 0;\n",
              "      width: 32px;\n",
              "    }\n",
              "\n",
              "    .colab-df-convert:hover {\n",
              "      background-color: #E2EBFA;\n",
              "      box-shadow: 0px 1px 2px rgba(60, 64, 67, 0.3), 0px 1px 3px 1px rgba(60, 64, 67, 0.15);\n",
              "      fill: #174EA6;\n",
              "    }\n",
              "\n",
              "    .colab-df-buttons div {\n",
              "      margin-bottom: 4px;\n",
              "    }\n",
              "\n",
              "    [theme=dark] .colab-df-convert {\n",
              "      background-color: #3B4455;\n",
              "      fill: #D2E3FC;\n",
              "    }\n",
              "\n",
              "    [theme=dark] .colab-df-convert:hover {\n",
              "      background-color: #434B5C;\n",
              "      box-shadow: 0px 1px 3px 1px rgba(0, 0, 0, 0.15);\n",
              "      filter: drop-shadow(0px 1px 2px rgba(0, 0, 0, 0.3));\n",
              "      fill: #FFFFFF;\n",
              "    }\n",
              "  </style>\n",
              "\n",
              "    <script>\n",
              "      const buttonEl =\n",
              "        document.querySelector('#df-75cb1c31-7512-47a8-91de-bdc485e8bd69 button.colab-df-convert');\n",
              "      buttonEl.style.display =\n",
              "        google.colab.kernel.accessAllowed ? 'block' : 'none';\n",
              "\n",
              "      async function convertToInteractive(key) {\n",
              "        const element = document.querySelector('#df-75cb1c31-7512-47a8-91de-bdc485e8bd69');\n",
              "        const dataTable =\n",
              "          await google.colab.kernel.invokeFunction('convertToInteractive',\n",
              "                                                    [key], {});\n",
              "        if (!dataTable) return;\n",
              "\n",
              "        const docLinkHtml = 'Like what you see? Visit the ' +\n",
              "          '<a target=\"_blank\" href=https://colab.research.google.com/notebooks/data_table.ipynb>data table notebook</a>'\n",
              "          + ' to learn more about interactive tables.';\n",
              "        element.innerHTML = '';\n",
              "        dataTable['output_type'] = 'display_data';\n",
              "        await google.colab.output.renderOutput(dataTable, element);\n",
              "        const docLink = document.createElement('div');\n",
              "        docLink.innerHTML = docLinkHtml;\n",
              "        element.appendChild(docLink);\n",
              "      }\n",
              "    </script>\n",
              "  </div>\n",
              "\n",
              "\n",
              "<div id=\"df-e2cdc008-1ab1-4f0c-b3ed-f3f2bcc20254\">\n",
              "  <button class=\"colab-df-quickchart\" onclick=\"quickchart('df-e2cdc008-1ab1-4f0c-b3ed-f3f2bcc20254')\"\n",
              "            title=\"Suggest charts\"\n",
              "            style=\"display:none;\">\n",
              "\n",
              "<svg xmlns=\"http://www.w3.org/2000/svg\" height=\"24px\"viewBox=\"0 0 24 24\"\n",
              "     width=\"24px\">\n",
              "    <g>\n",
              "        <path d=\"M19 3H5c-1.1 0-2 .9-2 2v14c0 1.1.9 2 2 2h14c1.1 0 2-.9 2-2V5c0-1.1-.9-2-2-2zM9 17H7v-7h2v7zm4 0h-2V7h2v10zm4 0h-2v-4h2v4z\"/>\n",
              "    </g>\n",
              "</svg>\n",
              "  </button>\n",
              "\n",
              "<style>\n",
              "  .colab-df-quickchart {\n",
              "      --bg-color: #E8F0FE;\n",
              "      --fill-color: #1967D2;\n",
              "      --hover-bg-color: #E2EBFA;\n",
              "      --hover-fill-color: #174EA6;\n",
              "      --disabled-fill-color: #AAA;\n",
              "      --disabled-bg-color: #DDD;\n",
              "  }\n",
              "\n",
              "  [theme=dark] .colab-df-quickchart {\n",
              "      --bg-color: #3B4455;\n",
              "      --fill-color: #D2E3FC;\n",
              "      --hover-bg-color: #434B5C;\n",
              "      --hover-fill-color: #FFFFFF;\n",
              "      --disabled-bg-color: #3B4455;\n",
              "      --disabled-fill-color: #666;\n",
              "  }\n",
              "\n",
              "  .colab-df-quickchart {\n",
              "    background-color: var(--bg-color);\n",
              "    border: none;\n",
              "    border-radius: 50%;\n",
              "    cursor: pointer;\n",
              "    display: none;\n",
              "    fill: var(--fill-color);\n",
              "    height: 32px;\n",
              "    padding: 0;\n",
              "    width: 32px;\n",
              "  }\n",
              "\n",
              "  .colab-df-quickchart:hover {\n",
              "    background-color: var(--hover-bg-color);\n",
              "    box-shadow: 0 1px 2px rgba(60, 64, 67, 0.3), 0 1px 3px 1px rgba(60, 64, 67, 0.15);\n",
              "    fill: var(--button-hover-fill-color);\n",
              "  }\n",
              "\n",
              "  .colab-df-quickchart-complete:disabled,\n",
              "  .colab-df-quickchart-complete:disabled:hover {\n",
              "    background-color: var(--disabled-bg-color);\n",
              "    fill: var(--disabled-fill-color);\n",
              "    box-shadow: none;\n",
              "  }\n",
              "\n",
              "  .colab-df-spinner {\n",
              "    border: 2px solid var(--fill-color);\n",
              "    border-color: transparent;\n",
              "    border-bottom-color: var(--fill-color);\n",
              "    animation:\n",
              "      spin 1s steps(1) infinite;\n",
              "  }\n",
              "\n",
              "  @keyframes spin {\n",
              "    0% {\n",
              "      border-color: transparent;\n",
              "      border-bottom-color: var(--fill-color);\n",
              "      border-left-color: var(--fill-color);\n",
              "    }\n",
              "    20% {\n",
              "      border-color: transparent;\n",
              "      border-left-color: var(--fill-color);\n",
              "      border-top-color: var(--fill-color);\n",
              "    }\n",
              "    30% {\n",
              "      border-color: transparent;\n",
              "      border-left-color: var(--fill-color);\n",
              "      border-top-color: var(--fill-color);\n",
              "      border-right-color: var(--fill-color);\n",
              "    }\n",
              "    40% {\n",
              "      border-color: transparent;\n",
              "      border-right-color: var(--fill-color);\n",
              "      border-top-color: var(--fill-color);\n",
              "    }\n",
              "    60% {\n",
              "      border-color: transparent;\n",
              "      border-right-color: var(--fill-color);\n",
              "    }\n",
              "    80% {\n",
              "      border-color: transparent;\n",
              "      border-right-color: var(--fill-color);\n",
              "      border-bottom-color: var(--fill-color);\n",
              "    }\n",
              "    90% {\n",
              "      border-color: transparent;\n",
              "      border-bottom-color: var(--fill-color);\n",
              "    }\n",
              "  }\n",
              "</style>\n",
              "\n",
              "  <script>\n",
              "    async function quickchart(key) {\n",
              "      const quickchartButtonEl =\n",
              "        document.querySelector('#' + key + ' button');\n",
              "      quickchartButtonEl.disabled = true;  // To prevent multiple clicks.\n",
              "      quickchartButtonEl.classList.add('colab-df-spinner');\n",
              "      try {\n",
              "        const charts = await google.colab.kernel.invokeFunction(\n",
              "            'suggestCharts', [key], {});\n",
              "      } catch (error) {\n",
              "        console.error('Error during call to suggestCharts:', error);\n",
              "      }\n",
              "      quickchartButtonEl.classList.remove('colab-df-spinner');\n",
              "      quickchartButtonEl.classList.add('colab-df-quickchart-complete');\n",
              "    }\n",
              "    (() => {\n",
              "      let quickchartButtonEl =\n",
              "        document.querySelector('#df-e2cdc008-1ab1-4f0c-b3ed-f3f2bcc20254 button');\n",
              "      quickchartButtonEl.style.display =\n",
              "        google.colab.kernel.accessAllowed ? 'block' : 'none';\n",
              "    })();\n",
              "  </script>\n",
              "</div>\n",
              "    </div>\n",
              "  </div>\n"
            ]
          },
          "metadata": {},
          "execution_count": 53
        }
      ]
    },
    {
      "cell_type": "code",
      "source": [
        "dataset.columns"
      ],
      "metadata": {
        "colab": {
          "base_uri": "https://localhost:8080/"
        },
        "id": "6TPpZHM4mMMo",
        "outputId": "20e43394-30e2-4229-f1b6-19e0cb0df988"
      },
      "execution_count": null,
      "outputs": [
        {
          "output_type": "execute_result",
          "data": {
            "text/plain": [
              "Index(['Serial No.', 'GRE Score', 'TOEFL Score', 'University Rating', 'SOP',\n",
              "       'LOR ', 'CGPA', 'Research', 'Chance of Admit '],\n",
              "      dtype='object')"
            ]
          },
          "metadata": {},
          "execution_count": 54
        }
      ]
    },
    {
      "cell_type": "code",
      "source": [
        "# Prepare the feature and label data\n",
        "features = dataset.iloc[:, :-1]\n",
        "features.drop(['Serial No.'], axis=1, inplace=True)\n",
        "\n",
        "labels = dataset.iloc[:, -1]\n",
        "\n",
        "features_train, features_test, labels_train, labels_test = train_test_split(\n",
        "    features,\n",
        "    labels,\n",
        "    test_size=0.2,\n",
        "    random_state=42)"
      ],
      "metadata": {
        "id": "dCKQZRPBiZxy"
      },
      "execution_count": null,
      "outputs": []
    },
    {
      "cell_type": "code",
      "source": [
        "# Normalize the data\n",
        "ct = ColumnTransformer(\n",
        "    [('only_numeric', StandardScaler(), features.columns)],\n",
        "    remainder='passthrough'\n",
        ")\n",
        "\n",
        "# Fit the feature data to the transformer\n",
        "features_train_scaled = ct.fit_transform(features_train)\n",
        "features_test_scaled = ct.transform(features_test)"
      ],
      "metadata": {
        "id": "Uu4KsKgGl-wG"
      },
      "execution_count": null,
      "outputs": []
    },
    {
      "cell_type": "code",
      "source": [
        "# Create the model and layer objects\n",
        "admissions_model = Sequential()\n",
        "input = layers.InputLayer(input_shape=(features.shape[1], ))\n",
        "hidden = layers.Dense(64, activation=\"relu\")\n",
        "output = layers.Dense(1)\n",
        "\n",
        "# Add layers to the model\n",
        "admissions_model.add(input)\n",
        "admissions_model.add(hidden)\n",
        "admissions_model.add(output)\n",
        "\n",
        "# Display output\n",
        "print(admissions_model.summary())"
      ],
      "metadata": {
        "colab": {
          "base_uri": "https://localhost:8080/"
        },
        "id": "x5twDDDcUSMc",
        "outputId": "defe8147-8819-41ac-8e5a-327cf487985b"
      },
      "execution_count": null,
      "outputs": [
        {
          "output_type": "stream",
          "name": "stdout",
          "text": [
            "Model: \"sequential_3\"\n",
            "_________________________________________________________________\n",
            " Layer (type)                Output Shape              Param #   \n",
            "=================================================================\n",
            " dense_6 (Dense)             (None, 64)                512       \n",
            "                                                                 \n",
            " dense_7 (Dense)             (None, 1)                 65        \n",
            "                                                                 \n",
            "=================================================================\n",
            "Total params: 577 (2.25 KB)\n",
            "Trainable params: 577 (2.25 KB)\n",
            "Non-trainable params: 0 (0.00 Byte)\n",
            "_________________________________________________________________\n",
            "None\n"
          ]
        }
      ]
    },
    {
      "cell_type": "code",
      "source": [
        "# Initialize Optimizer and Compile Model\n",
        "sgd = SGD(learning_rate=0.1)\n",
        "\n",
        "admissions_model.compile(\n",
        "    loss='mse',\n",
        "    metrics=['mae'],\n",
        "    optimizer=sgd\n",
        ")"
      ],
      "metadata": {
        "id": "ZWxUdjtqiDTj"
      },
      "execution_count": null,
      "outputs": []
    },
    {
      "cell_type": "code",
      "source": [
        "history = admissions_model.fit(\n",
        "    features_train_scaled,\n",
        "    labels_train,\n",
        "    epochs=40,\n",
        "    batch_size=10,\n",
        "    verbose=1\n",
        ")"
      ],
      "metadata": {
        "colab": {
          "base_uri": "https://localhost:8080/"
        },
        "id": "7Nf3Q9eikPzU",
        "outputId": "777f3080-578f-4939-8ea7-fd796827b8cb"
      },
      "execution_count": null,
      "outputs": [
        {
          "output_type": "stream",
          "name": "stdout",
          "text": [
            "Epoch 1/40\n",
            "40/40 [==============================] - 0s 2ms/step - loss: 0.0043 - mae: 0.0499\n",
            "Epoch 2/40\n",
            "40/40 [==============================] - 0s 2ms/step - loss: 0.0044 - mae: 0.0499\n",
            "Epoch 3/40\n",
            "40/40 [==============================] - 0s 2ms/step - loss: 0.0042 - mae: 0.0483\n",
            "Epoch 4/40\n",
            "40/40 [==============================] - 0s 2ms/step - loss: 0.0040 - mae: 0.0481\n",
            "Epoch 5/40\n",
            "40/40 [==============================] - 0s 2ms/step - loss: 0.0038 - mae: 0.0466\n",
            "Epoch 6/40\n",
            "40/40 [==============================] - 0s 2ms/step - loss: 0.0040 - mae: 0.0468\n",
            "Epoch 7/40\n",
            "40/40 [==============================] - 0s 2ms/step - loss: 0.0038 - mae: 0.0467\n",
            "Epoch 8/40\n",
            "40/40 [==============================] - 0s 2ms/step - loss: 0.0039 - mae: 0.0467\n",
            "Epoch 9/40\n",
            "40/40 [==============================] - 0s 2ms/step - loss: 0.0035 - mae: 0.0434\n",
            "Epoch 10/40\n",
            "40/40 [==============================] - 0s 2ms/step - loss: 0.0034 - mae: 0.0436\n",
            "Epoch 11/40\n",
            "40/40 [==============================] - 0s 2ms/step - loss: 0.0035 - mae: 0.0437\n",
            "Epoch 12/40\n",
            "40/40 [==============================] - 0s 2ms/step - loss: 0.0035 - mae: 0.0445\n",
            "Epoch 13/40\n",
            "40/40 [==============================] - 0s 2ms/step - loss: 0.0036 - mae: 0.0437\n",
            "Epoch 14/40\n",
            "40/40 [==============================] - 0s 2ms/step - loss: 0.0033 - mae: 0.0433\n",
            "Epoch 15/40\n",
            "40/40 [==============================] - 0s 2ms/step - loss: 0.0033 - mae: 0.0420\n",
            "Epoch 16/40\n",
            "40/40 [==============================] - 0s 2ms/step - loss: 0.0033 - mae: 0.0426\n",
            "Epoch 17/40\n",
            "40/40 [==============================] - 0s 2ms/step - loss: 0.0035 - mae: 0.0436\n",
            "Epoch 18/40\n",
            "40/40 [==============================] - 0s 2ms/step - loss: 0.0034 - mae: 0.0435\n",
            "Epoch 19/40\n",
            "40/40 [==============================] - 0s 2ms/step - loss: 0.0032 - mae: 0.0418\n",
            "Epoch 20/40\n",
            "40/40 [==============================] - 0s 2ms/step - loss: 0.0033 - mae: 0.0429\n",
            "Epoch 21/40\n",
            "40/40 [==============================] - 0s 2ms/step - loss: 0.0033 - mae: 0.0436\n",
            "Epoch 22/40\n",
            "40/40 [==============================] - 0s 2ms/step - loss: 0.0036 - mae: 0.0442\n",
            "Epoch 23/40\n",
            "40/40 [==============================] - 0s 2ms/step - loss: 0.0034 - mae: 0.0437\n",
            "Epoch 24/40\n",
            "40/40 [==============================] - 0s 2ms/step - loss: 0.0033 - mae: 0.0424\n",
            "Epoch 25/40\n",
            "40/40 [==============================] - 0s 2ms/step - loss: 0.0031 - mae: 0.0405\n",
            "Epoch 26/40\n",
            "40/40 [==============================] - 0s 2ms/step - loss: 0.0030 - mae: 0.0417\n",
            "Epoch 27/40\n",
            "40/40 [==============================] - 0s 2ms/step - loss: 0.0031 - mae: 0.0413\n",
            "Epoch 28/40\n",
            "40/40 [==============================] - 0s 2ms/step - loss: 0.0034 - mae: 0.0430\n",
            "Epoch 29/40\n",
            "40/40 [==============================] - 0s 2ms/step - loss: 0.0032 - mae: 0.0423\n",
            "Epoch 30/40\n",
            "40/40 [==============================] - 0s 2ms/step - loss: 0.0029 - mae: 0.0394\n",
            "Epoch 31/40\n",
            "40/40 [==============================] - 0s 2ms/step - loss: 0.0030 - mae: 0.0398\n",
            "Epoch 32/40\n",
            "40/40 [==============================] - 0s 3ms/step - loss: 0.0029 - mae: 0.0402\n",
            "Epoch 33/40\n",
            "40/40 [==============================] - 0s 2ms/step - loss: 0.0031 - mae: 0.0417\n",
            "Epoch 34/40\n",
            "40/40 [==============================] - 0s 3ms/step - loss: 0.0030 - mae: 0.0407\n",
            "Epoch 35/40\n",
            "40/40 [==============================] - 0s 3ms/step - loss: 0.0030 - mae: 0.0402\n",
            "Epoch 36/40\n",
            "40/40 [==============================] - 0s 3ms/step - loss: 0.0031 - mae: 0.0416\n",
            "Epoch 37/40\n",
            "40/40 [==============================] - 0s 2ms/step - loss: 0.0031 - mae: 0.0413\n",
            "Epoch 38/40\n",
            "40/40 [==============================] - 0s 3ms/step - loss: 0.0028 - mae: 0.0398\n",
            "Epoch 39/40\n",
            "40/40 [==============================] - 0s 3ms/step - loss: 0.0027 - mae: 0.0386\n",
            "Epoch 40/40\n",
            "40/40 [==============================] - 0s 3ms/step - loss: 0.0030 - mae: 0.0402\n"
          ]
        }
      ]
    },
    {
      "cell_type": "code",
      "source": [
        "res_mse, res_mae = admissions_model.evaluate(\n",
        "    features_test_scaled,\n",
        "    labels_test,\n",
        "    verbose=0\n",
        ")\n",
        "print(\"Final loss:\", res_mse)\n",
        "print(\"Final metric:\", res_mae)"
      ],
      "metadata": {
        "colab": {
          "base_uri": "https://localhost:8080/"
        },
        "id": "VUSSG1NZkk4_",
        "outputId": "71ae971c-bb93-4965-a069-1c8ee019b4e9"
      },
      "execution_count": null,
      "outputs": [
        {
          "output_type": "stream",
          "name": "stdout",
          "text": [
            "Final loss: 0.004193304572254419\n",
            "Final metric: 0.046978045254945755\n"
          ]
        }
      ]
    },
    {
      "cell_type": "code",
      "source": [
        "fig = plt.figure()\n",
        "ax1 = fig.add_subplot(2, 1, 1)\n",
        "ax1.plot(history.history['mae'])\n",
        "ax1.set_title('model mae')\n",
        "ax1.set_ylabel('MAE')\n",
        "ax1.set_xlabel('epoch')\n",
        "ax1.legend(['train', 'validation'], loc='upper left')\n",
        "\n",
        "# Plot loss and val_loss over each epoch\n",
        "ax2 = fig.add_subplot(2, 1, 2)\n",
        "ax2.plot(history.history['loss'])\n",
        "ax2.set_title('model loss')\n",
        "ax2.set_ylabel('loss')\n",
        "ax2.set_xlabel('epoch')\n",
        "ax2.legend(['train', 'validation'], loc='upper left')\n",
        "\n",
        "# used to keep plots from overlapping each other\n",
        "fig.tight_layout()"
      ],
      "metadata": {
        "colab": {
          "base_uri": "https://localhost:8080/",
          "height": 486
        },
        "id": "aQTzYylol96L",
        "outputId": "00fdab5d-98ca-4cb4-857d-629ee039b59b"
      },
      "execution_count": null,
      "outputs": [
        {
          "output_type": "display_data",
          "data": {
            "text/plain": [
              "<Figure size 640x480 with 2 Axes>"
            ],
            "image/png": "[encoded data removed]"
          },
          "metadata": {}
        }
      ]
    },
    {
      "cell_type": "code",
      "source": [
        "# Determine R^2 Value\n",
        "predicted_values = admissions_model.predict(features_test_scaled)\n",
        "print(r2_score(labels_test, predicted_values))"
      ],
      "metadata": {
        "colab": {
          "base_uri": "https://localhost:8080/"
        },
        "id": "QTBO5snFnvk7",
        "outputId": "c7518dce-eb3b-49f7-e992-73d12c32bfc9"
      },
      "execution_count": null,
      "outputs": [
        {
          "output_type": "stream",
          "name": "stdout",
          "text": [
            "4/4 [==============================] - 0s 3ms/step\n",
            "0.7949484113290153\n"
          ]
        }
      ]
    },
    {
      "cell_type": "markdown",
      "source": [
        "## Conclusion\n",
        "Evaluating this deep learning model shows an $r^2$ value of 0.795. Further review will be needed to see if this value can be further optimized. Work will continue with exploring automated optimization"
      ],
      "metadata": {
        "id": "MRi1Vdmu6WKk"
      }
    }
  ]
}